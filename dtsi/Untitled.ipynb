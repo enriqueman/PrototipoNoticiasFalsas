{
 "cells": [
  {
   "cell_type": "code",
   "execution_count": 1,
   "id": "04d28e97",
   "metadata": {},
   "outputs": [
    {
     "name": "stdout",
     "output_type": "stream",
     "text": [
      "Collecting pymavlink\n",
      "  Downloading pymavlink-2.4.41-py3-none-any.whl (11.6 MB)\n",
      "     -------------------------------------- 11.6/11.6 MB 770.6 kB/s eta 0:00:00\n",
      "Requirement already satisfied: lxml in e:\\anaconda3\\lib\\site-packages (from pymavlink) (4.9.1)\n",
      "Requirement already satisfied: future in e:\\anaconda3\\lib\\site-packages (from pymavlink) (0.18.3)\n",
      "Installing collected packages: pymavlink\n",
      "Successfully installed pymavlink-2.4.41\n"
     ]
    }
   ],
   "source": [
    "!pip install pymavlink\n"
   ]
  },
  {
   "cell_type": "code",
   "execution_count": 1,
   "id": "3c80e774",
   "metadata": {},
   "outputs": [],
   "source": [
    "from pymavlink import mavutil"
   ]
  },
  {
   "cell_type": "code",
   "execution_count": 2,
   "id": "f47b9125",
   "metadata": {},
   "outputs": [],
   "source": [
    "# Crea una conexión MAVLink\n",
    "mav = mavutil.mavlink_connection('COM7',57600)  # Asegúrate de que este es el puerto correcto\n"
   ]
  },
  {
   "cell_type": "code",
   "execution_count": null,
   "id": "f440de4d",
   "metadata": {},
   "outputs": [],
   "source": [
    "# Envía un mensaje de latido (heartbeat)\n",
    "mav.mav.heartbeat_send(\n",
    "    mavutil.mavlink.MAV_TYPE_GENERIC,  # Tipo de vehículo\n",
    "    mavutil.mavlink.MAV_AUTOPILOT_GENERIC,  # Tipo de piloto automático\n",
    "    0,  # Modo de base\n",
    "    0,  # Modo personalizado\n",
    "    mavutil.mavlink.MAV_STATE_ACTIVE  # Estado del sistema\n",
    ")"
   ]
  },
  {
   "cell_type": "code",
   "execution_count": null,
   "id": "1b708ee8",
   "metadata": {},
   "outputs": [],
   "source": [
    "# Espera a recibir un mensaje de latido (heartbeat)\n",
    "try:\n",
    "    mav.wait_heartbeat()\n",
    "    print(\"Heartbeat received\")\n",
    "except Exception as e:\n",
    "    print(\"Error waiting for heartbeat: \", e)"
   ]
  },
  {
   "cell_type": "code",
   "execution_count": null,
   "id": "c061285b",
   "metadata": {},
   "outputs": [],
   "source": [
    "# Envía un mensaje\n",
    "mav.mav.heartbeat_send(\n",
    "    mavutil.mavlink.MAV_TYPE_HELICOPTER,  # Cambia esto por el tipo de vehículo correcto\n",
    "    mavutil.mavlink.MAV_AUTOPILOT_GENERIC,\n",
    "    0,\n",
    "    0,\n",
    "    0\n",
    ")\n"
   ]
  },
  {
   "cell_type": "code",
   "execution_count": null,
   "id": "bf18abb1",
   "metadata": {},
   "outputs": [],
   "source": [
    "from pymavlink import mavutil\n",
    "\n",
    "# Crea una conexión MAVLink\n",
    "mav = mavutil.mavlink_connection('COM7', baud=57600)  # Asegúrate de que este es el puerto correcto\n",
    "\n",
    "# Envía un mensaje de texto\n",
    "while True:\n",
    "    mav.mav.statustext_send(mavutil.mavlink.MAV_SEVERITY_NOTICE, 'hello world'.encode('utf-8'))"
   ]
  },
  {
   "cell_type": "code",
   "execution_count": null,
   "id": "a62a7a33",
   "metadata": {},
   "outputs": [],
   "source": []
  }
 ],
 "metadata": {
  "kernelspec": {
   "display_name": "Python 3 (ipykernel)",
   "language": "python",
   "name": "python3"
  },
  "language_info": {
   "codemirror_mode": {
    "name": "ipython",
    "version": 3
   },
   "file_extension": ".py",
   "mimetype": "text/x-python",
   "name": "python",
   "nbconvert_exporter": "python",
   "pygments_lexer": "ipython3",
   "version": "3.10.9"
  }
 },
 "nbformat": 4,
 "nbformat_minor": 5
}
