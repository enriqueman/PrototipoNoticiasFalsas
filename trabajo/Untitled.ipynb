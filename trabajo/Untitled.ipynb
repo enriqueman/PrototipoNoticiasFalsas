{
 "cells": [
  {
   "cell_type": "code",
   "execution_count": null,
   "id": "1db8bfb8",
   "metadata": {},
   "outputs": [],
   "source": [
    "import pandas as pd\n",
    "\n",
    "# Supongamos que tus datos están en un archivo de Excel llamado 'datos.xlsx'\n",
    "df = pd.read_excel('datos.xlsx')\n",
    "\n",
    "# Agrupamos por 'CRAMO' y 'SPRODUC'\n",
    "grouped = df.groupby(['CRAMO', 'SPRODUC'])\n",
    "\n",
    "# Para cada grupo, podemos hacer algo. En este caso, solo imprimimos el nombre del grupo\n",
    "for name, group in grouped:\n",
    "    print(\"\\nGrupo CRAMO:\", name[0], \"SPRODUC:\", name[1])\n",
    "    print(group)\n"
   ]
  }
 ],
 "metadata": {
  "kernelspec": {
   "display_name": "Python 3 (ipykernel)",
   "language": "python",
   "name": "python3"
  },
  "language_info": {
   "codemirror_mode": {
    "name": "ipython",
    "version": 3
   },
   "file_extension": ".py",
   "mimetype": "text/x-python",
   "name": "python",
   "nbconvert_exporter": "python",
   "pygments_lexer": "ipython3",
   "version": "3.10.9"
  }
 },
 "nbformat": 4,
 "nbformat_minor": 5
}
